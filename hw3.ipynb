{
  "cells": [
    {
      "cell_type": "markdown",
      "metadata": {
        "id": "jP7SaA1FVFVa"
      },
      "source": [
        "# Homework III - Report\n",
        "\n",
        "Cecília Correia, 106827\n",
        "<br>Patrícia Gameiro, 107245"
      ]
    },
    {
      "cell_type": "markdown",
      "metadata": {
        "id": "Ktkz9Ef9VFVd"
      },
      "source": [
        "## Programming and critical analysis [8v]\n",
        "\n",
        "**Consider the `parkinsons.csv` dataset (available at the course’s webpage), where the goal is\n",
        "to predict a patient’s score on the Unified Parkinson’s Disease Rating Scale based on various\n",
        "biomedical measurements.**\n",
        "\n",
        "**To answer question 5), average the performance of the models over 10 separate runs. In each run, use a diﬀerent 80-20 train-test split by setting a `random_state=i`, with `i=1..10`.**"
      ]
    },
    {
      "cell_type": "markdown",
      "metadata": {
        "id": "JSD2ZzD8VFVd"
      },
      "source": [
        "### 5) [2v]\n",
        "**Train a Linear Regression model, an MLP Regressor with 2 hidden layers of 10\n",
        "neurons each and no activation functions, and another MLP Regressor with 2 hidden\n",
        "layers of 10 neurons each using ReLU activation functions. (Use `random_state=0` on the MLPs, regardless of the run). Plot a boxplot of the test MAE of each model.**"
      ]
    },
    {
      "cell_type": "code",
      "execution_count": 1,
      "metadata": {
        "id": "CWwessOUVFVe"
      },
      "outputs": [],
      "source": [
        "from sklearn.exceptions import ConvergenceWarning\n",
        "from sklearn.model_selection import train_test_split, GridSearchCV\n",
        "from sklearn.linear_model import LinearRegression\n",
        "from sklearn.neural_network import MLPRegressor\n",
        "from sklearn.metrics import mean_absolute_error\n",
        "from sklearn.model_selection import StratifiedKFold\n",
        "import matplotlib.pyplot as plt\n",
        "import numpy as np\n",
        "import pandas as pd\n",
        "import seaborn as sns\n",
        "import warnings"
      ]
    },
    {
      "cell_type": "code",
      "execution_count": 2,
      "metadata": {
        "id": "SdG12u9bVFVf"
      },
      "outputs": [],
      "source": [
        "df = pd.read_csv(\"./data/parkinsons.csv\")\n",
        "\n",
        "X = df.drop(\"target\", axis = 1)\n",
        "y = df[\"target\"]\n",
        "\n",
        "warnings.filterwarnings(action = \"ignore\", category = ConvergenceWarning)"
      ]
    },
    {
      "cell_type": "code",
      "execution_count": 3,
      "metadata": {
        "colab": {
          "base_uri": "https://localhost:8080/",
          "height": 905
        },
        "id": "q3ciyJA0VFVg",
        "outputId": "f7b34a84-6c23-4bc1-c882-44be5b2fb19f"
      },
      "outputs": [
        {
          "data": {
            "image/png": "[encoded data removed]",
            "text/plain": [
              "<Figure size 1000x1000 with 1 Axes>"
            ]
          },
          "metadata": {},
          "output_type": "display_data"
        }
      ],
      "source": [
        "random_seeds = range(1, 11)\n",
        "\n",
        "results = {\"Linear Regression\": [], \"MLP No Activation\": [], \"MLP ReLU\": []}\n",
        "\n",
        "for i in random_seeds:\n",
        "    X_train, X_test, y_train, y_test = train_test_split(X, y, test_size = 0.2, random_state = i)\n",
        "\n",
        "    lr = LinearRegression()\n",
        "    lr.fit(X_train, y_train)\n",
        "    y_pred_lr = lr.predict(X_test)\n",
        "    results[\"Linear Regression\"].append(mean_absolute_error(y_test, y_pred_lr))\n",
        "\n",
        "    mlp_no_act = MLPRegressor(hidden_layer_sizes = (10, 10), activation =\"identity\", random_state = 0)\n",
        "    mlp_no_act.fit(X_train, y_train)\n",
        "    y_pred_mlp_no_act = mlp_no_act.predict(X_test)\n",
        "    results[\"MLP No Activation\"].append(mean_absolute_error(y_test, y_pred_mlp_no_act))\n",
        "\n",
        "    mlp_relu = MLPRegressor(hidden_layer_sizes = (10, 10), activation = \"relu\", random_state = 0)\n",
        "    mlp_relu.fit(X_train, y_train)\n",
        "    y_pred_mlp_relu = mlp_relu.predict(X_test)\n",
        "    results[\"MLP ReLU\"].append(mean_absolute_error(y_test, y_pred_mlp_relu))\n",
        "\n",
        "results_df = pd.DataFrame(results)\n",
        "\n",
        "plt.figure(figsize = (10, 10))\n",
        "\n",
        "sns.boxplot(data = results_df, palette = \"Set2\", width = 0.5)\n",
        "plt.ylabel('Mean Absolute Error')\n",
        "\n",
        "plt.show()"
      ]
    },
    {
      "cell_type": "markdown",
      "metadata": {
        "id": "J_n535yIVFVh"
      },
      "source": [
        "### 6) [3v]\n",
        "**Compare a Linear Regression with a MLP with no activations, and explain the impact\n",
        "and the importance of using activation functions in a MLP . Support your reasoning with the\n",
        "results from the boxplots.**"
      ]
    },
    {
      "cell_type": "markdown",
      "metadata": {
        "id": "4fwMKil4kWOx"
      },
      "source": [
        "BLA BLA BLA FIXME"
      ]
    },
    {
      "cell_type": "markdown",
      "metadata": {
        "id": "FkJeOoKCVFVi"
      },
      "source": [
        "### 7) [3v]\n",
        "**Using a 80-20 train-test split with `random_state=0`, use a Grid Search to tune the hyperparameters of an MLP regressor with two hidden layers (size 10 each). The parameters to search over are: (i) L2 penalty, with the values `{0.0001, 0.001, 0.01}`; (ii) learning rate, with the values `{0.001, 0.01, 0.1}`; and (iii) batch size, with the values `{32, 64, 128}`. Plot the test MAE for each combination of hyperparameters, report the best combination, and discuss the trade-oﬀs between the combinations.**"
      ]
    },
    {
      "cell_type": "code",
      "execution_count": 4,
      "metadata": {},
      "outputs": [],
      "source": [
        "import matplotlib.cm as cm\n",
        "import matplotlib.colors as mcolors"
      ]
    },
    {
      "cell_type": "code",
      "execution_count": null,
      "metadata": {
        "colab": {
          "base_uri": "https://localhost:8080/",
          "height": 734
        },
        "id": "dUFZYtaAVFVi",
        "outputId": "d5504595-73eb-44ac-a3ec-bab8c501348a"
      },
      "outputs": [],
      "source": [
        "X_train, X_test, y_train, y_test = train_test_split(X, y, test_size = 0.2, random_state = 0)\n",
        "\n",
        "mlp = MLPRegressor(hidden_layer_sizes = (10, 10), random_state = 0)\n",
        "\n",
        "param_grid = {\n",
        "    \"alpha\": [0.0001, 0.001, 0.01],  \n",
        "    \"learning_rate_init\": [0.001, 0.01, 0.1],  \n",
        "    \"batch_size\": [32, 64, 128]  \n",
        "}\n",
        "\n",
        "grid_search = GridSearchCV(mlp, param_grid, scoring = \"neg_mean_absolute_error\")\n",
        "grid_search.fit(X_train, y_train)\n",
        "\n",
        "results = grid_search.cv_results_\n",
        "\n",
        "alphas = results[\"param_alpha\"].data\n",
        "learning_rates = results[\"param_learning_rate_init\"].data\n",
        "batch_sizes = results[\"param_batch_size\"].data\n",
        "mean_absolute_errors = -results[\"mean_test_score\"]"
      ]
    },
    {
      "cell_type": "code",
      "execution_count": null,
      "metadata": {},
      "outputs": [],
      "source": [
        "fig = plt.figure(figsize = (12, 8))\n",
        "ax = fig.add_subplot(111, projection = \"3d\")\n",
        "\n",
        "sc = ax.scatter(alphas, batch_sizes, learning_rates, c = mean_absolute_errors, cmap = cm.jet, s = 100)\n",
        "\n",
        "ax.set_xlabel(\"L2 penalty\")\n",
        "ax.set_ylabel(\"Batch Size\")\n",
        "ax.set_zlabel(\"Learning Rate\")\n",
        "\n",
        "cbar = plt.colorbar(sc, ax=ax, label = \"Mean Absolute Error\")\n",
        "\n",
        "plt.show()\n",
        "\n",
        "print(\"Best parameters found: \", grid_search.best_params_)"
      ]
    }
  ],
  "metadata": {
    "colab": {
      "provenance": [],
      "toc_visible": true
    },
    "kernelspec": {
      "display_name": "Python 3",
      "language": "python",
      "name": "python3"
    },
    "language_info": {
      "codemirror_mode": {
        "name": "ipython",
        "version": 3
      },
      "file_extension": ".py",
      "mimetype": "text/x-python",
      "name": "python",
      "nbconvert_exporter": "python",
      "pygments_lexer": "ipython3",
      "version": "3.12.7"
    }
  },
  "nbformat": 4,
  "nbformat_minor": 0
}
