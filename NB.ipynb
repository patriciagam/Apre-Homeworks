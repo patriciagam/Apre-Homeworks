{
 "cells": [
  {
   "cell_type": "code",
   "execution_count": 6,
   "metadata": {},
   "outputs": [
    {
     "ename": "ModuleNotFoundError",
     "evalue": "No module named 'sklearn'",
     "output_type": "error",
     "traceback": [
      "\u001b[0;31m---------------------------------------------------------------------------\u001b[0m",
      "\u001b[0;31mModuleNotFoundError\u001b[0m                       Traceback (most recent call last)",
      "Cell \u001b[0;32mIn[6], line 1\u001b[0m\n\u001b[0;32m----> 1\u001b[0m \u001b[38;5;28;01mfrom\u001b[39;00m \u001b[38;5;21;01msklearn\u001b[39;00m\u001b[38;5;21;01m.\u001b[39;00m\u001b[38;5;21;01mfeature_selection\u001b[39;00m \u001b[38;5;28;01mimport\u001b[39;00m f_classif\n\u001b[1;32m      2\u001b[0m \u001b[38;5;28;01mfrom\u001b[39;00m \u001b[38;5;21;01mscipy\u001b[39;00m\u001b[38;5;21;01m.\u001b[39;00m\u001b[38;5;21;01mio\u001b[39;00m\u001b[38;5;21;01m.\u001b[39;00m\u001b[38;5;21;01marff\u001b[39;00m \u001b[38;5;28;01mimport\u001b[39;00m loadarff\n\u001b[1;32m      3\u001b[0m \u001b[38;5;28;01mimport\u001b[39;00m \u001b[38;5;21;01mpandas\u001b[39;00m \u001b[38;5;28;01mas\u001b[39;00m \u001b[38;5;21;01mpd\u001b[39;00m\n",
      "\u001b[0;31mModuleNotFoundError\u001b[0m: No module named 'sklearn'"
     ]
    }
   ],
   "source": [
    "from sklearn.feature_selection import f_classif\n",
    "from scipy.io.arff import loadarff\n",
    "import pandas as pd\n",
    "import seaborn as sns\n",
    "import matplotlib.pyplot as plt\n",
    "import numpy as np"
   ]
  },
  {
   "cell_type": "markdown",
   "metadata": {},
   "source": [
    "### Ex 1) ANOVA is a statistical test that can be used to assess the discriminative power of a single input variable. Using f_classif from sklearn, identify the input variables with the worst and best discriminative power. Plot their class-conditional probability density functions."
   ]
  },
  {
   "cell_type": "code",
   "execution_count": null,
   "metadata": {},
   "outputs": [],
   "source": [
    "# Reading the ARFF file\n",
    "data = loadarff(\"./data/diabetes.arff\")\n",
    "df = pd.DataFrame(data[0])\n",
    "df[\"Outcome\"] = df[\"Outcome\"].str.decode(\"utf-8\")\n",
    "\n",
    "X = df.drop(\"Outcome\", axis = 1)\n",
    "y = df[\"Outcome\"]\n",
    "fimportance = f_classif(X, y)\n",
    "\n",
    "from sklearn.feature_selection import f_classif\n",
    "\n",
    "# Perform ANOVA F-test on the dataset\n",
    "fimportance = f_classif(X, y)\n",
    "\n",
    "# Find the index of the max and min F-scores\n",
    "max_f_index = fimportance[0].argmax()  \n",
    "min_f_index = fimportance[0].argmin()  \n",
    "\n",
    "# Print the best and worst discriminative features\n",
    "print(f\"Best discriminative feature: {X.columns.values[max_f_index]} (F = {fimportance[0][max_f_index]})\")\n",
    "print(f\"Worst discriminative feature: {X.columns.values[min_f_index]} (F = {fimportance[0][min_f_index]})\")\n",
    "\n",
    "df = pd.DataFrame(data)\n"
   ]
  },
  {
   "cell_type": "markdown",
   "metadata": {},
   "source": [
    "Ex2) Using a stratified 80-20 training-testing split with a fixed seed (random_state=1), assess in a single plot both the training and testing accuracies of a decision tree with minimum sample split in {2, 5,10, 20, 30, 50, 100} and the remaining parameters as default.\n",
    "[optional] Note that split thresholding of numeric variables in decision trees is non- deterministic in sklearn, hence you may opt to average the results using 10 runs per parameterization."
   ]
  },
  {
   "cell_type": "code",
   "execution_count": null,
   "metadata": {},
   "outputs": [],
   "source": [
    "# Reading the ARFF file\n",
    "data = loadarff(\"./data/diabetes.arff\")\n",
    "df = pd.DataFrame(data[0])\n",
    "df[\"Outcome\"] = df[\"Outcome\"].str.decode(\"utf-8\")\n",
    "\n",
    "# Separate features from the outcome (Outcome)\n",
    "X = df.drop(\"Outcome\", axis = 1)\n",
    "y = df[\"Outcome\"]\n",
    "\n",
    "# List of specific values for min_samples_split to test\n",
    "MIN_SAMPLES_SPLIT = [2, 5, 10, 20, 30, 50, 100] \n",
    "runs = 10  # Number of runs for averaging\n",
    "\n",
    "# Initialize lists to store average accuracy for each split value\n",
    "average_training_accuracy = []  # Initialize this list\n",
    "average_test_accuracy = []  # Initialize this list\n",
    "\n",
    "for min_samples_split in MIN_SAMPLES_SPLIT:\n",
    "    train_acc_list = []\n",
    "    test_acc_list = []\n",
    "\n",
    "    for _ in range(runs):\n",
    "        # Split the dataset into a training set (80%) and a testing set (20%)\n",
    "        X_train, X_test, y_train, y_test = model_selection.train_test_split(\n",
    "            X, y, train_size = 0.8, stratify = y, random_state = 1 \n",
    "        )\n",
    "\n",
    "        # Fit the decision tree classifier\n",
    "        predictor = tree.DecisionTreeClassifier(min_samples_split = min_samples_split, random_state = 1)\n",
    "        predictor.fit(X_train, y_train)\n",
    "\n",
    "        # Use the decision tree to predict the outcomes of the given observations\n",
    "        y_train_pred = predictor.predict(X_train)\n",
    "        y_test_pred = predictor.predict(X_test)\n",
    "\n",
    "        # Get the accuracy of each test\n",
    "        train_acc = metrics.accuracy_score(y_train, y_train_pred)\n",
    "        test_acc = metrics.accuracy_score(y_test, y_test_pred)\n",
    "\n",
    "        # Append accuracies to the respective lists\n",
    "        train_acc_list.append(train_acc)\n",
    "        test_acc_list.append(test_acc)\n",
    "\n",
    "    # Average accuracies over the runs\n",
    "    average_training_accuracy.append(np.mean(train_acc_list))\n",
    "    average_test_accuracy.append(np.mean(test_acc_list))\n",
    "\n",
    "# Plot the training and test accuracy for each min_samples_split\n",
    "plt.plot(\n",
    "    MIN_SAMPLES_SPLIT,\n",
    "    average_training_accuracy,  # Use the averaged accuracies for plotting\n",
    "    label = \"Training Accuracy\",\n",
    "    marker=\"o\",\n",
    "    color=\"#4caf50\",\n",
    ")\n",
    "plt.plot(\n",
    "    MIN_SAMPLES_SPLIT,\n",
    "    average_test_accuracy,  # Use the averaged accuracies for plotting\n",
    "    label = \"Test Accuracy\",\n",
    "    marker = \"x\",\n",
    "    color = \"#ff5722\",\n",
    ")\n",
    "\n",
    "plt.xlabel(\"Minimum Samples Split\")\n",
    "plt.ylabel(\"Accuracy\")\n",
    "plt.title(\"Training and Testing Accuracy vs. Minimum Samples Split\")\n",
    "plt.legend()\n",
    "plt.grid(True)\n",
    "plt.savefig(\"./h1.2-plot.svg\")  # Save the plot\n",
    "plt.show()\n"
   ]
  }
 ],
 "metadata": {
  "kernelspec": {
   "display_name": "Python 3.9.6 64-bit",
   "language": "python",
   "name": "python3"
  },
  "language_info": {
   "codemirror_mode": {
    "name": "ipython",
    "version": 3
   },
   "file_extension": ".py",
   "mimetype": "text/x-python",
   "name": "python",
   "nbconvert_exporter": "python",
   "pygments_lexer": "ipython3",
   "version": "3.9.6"
  },
  "orig_nbformat": 4,
  "vscode": {
   "interpreter": {
    "hash": "31f2aee4e71d21fbe5cf8b01ff0e069b9275f58929596ceb00d14d90e3e16cd6"
   }
  }
 },
 "nbformat": 4,
 "nbformat_minor": 2
}
